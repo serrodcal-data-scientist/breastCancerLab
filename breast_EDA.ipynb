{
 "cells": [
  {
   "cell_type": "code",
   "execution_count": 1,
   "metadata": {},
   "outputs": [
    {
     "name": "stdout",
     "output_type": "stream",
     "text": [
      "Requirement already satisfied: numpy in /usr/local/lib/python3.7/site-packages (from -r requirements.txt (line 1)) (1.15.1)\n",
      "Requirement already satisfied: pandas in /usr/local/lib/python3.7/site-packages (from -r requirements.txt (line 2)) (0.23.4)\n",
      "Requirement already satisfied: scipy in /usr/local/lib/python3.7/site-packages (from -r requirements.txt (line 3)) (1.1.0)\n",
      "Requirement already satisfied: matplotlib in /usr/local/lib/python3.7/site-packages (from -r requirements.txt (line 4)) (2.2.3)\n",
      "Requirement already satisfied: seaborn in /usr/local/lib/python3.7/site-packages (from -r requirements.txt (line 5)) (0.9.0)\n",
      "Requirement already satisfied: sklearn in /usr/local/lib/python3.7/site-packages (from -r requirements.txt (line 6)) (0.0)\n",
      "Requirement already satisfied: python-dateutil>=2.5.0 in /usr/local/Cellar/ipython/7.5.0/libexec/vendor/lib/python3.7/site-packages (from pandas->-r requirements.txt (line 2)) (2.8.0)\n",
      "Requirement already satisfied: pytz>=2011k in /usr/local/lib/python3.7/site-packages (from pandas->-r requirements.txt (line 2)) (2018.5)\n",
      "Requirement already satisfied: kiwisolver>=1.0.1 in /usr/local/lib/python3.7/site-packages (from matplotlib->-r requirements.txt (line 4)) (1.0.1)\n",
      "Requirement already satisfied: cycler>=0.10 in /usr/local/lib/python3.7/site-packages (from matplotlib->-r requirements.txt (line 4)) (0.10.0)\n",
      "Requirement already satisfied: pyparsing!=2.0.4,!=2.1.2,!=2.1.6,>=2.0.1 in /usr/local/lib/python3.7/site-packages (from matplotlib->-r requirements.txt (line 4)) (2.2.0)\n",
      "Requirement already satisfied: six>=1.10 in /usr/local/Cellar/ipython/7.5.0/libexec/vendor/lib/python3.7/site-packages (from matplotlib->-r requirements.txt (line 4)) (1.12.0)\n",
      "Requirement already satisfied: scikit-learn in /usr/local/lib/python3.7/site-packages (from sklearn->-r requirements.txt (line 6)) (0.19.2)\n",
      "Requirement already satisfied: setuptools in /usr/local/lib/python3.7/site-packages (from kiwisolver>=1.0.1->matplotlib->-r requirements.txt (line 4)) (40.8.0)\n"
     ]
    }
   ],
   "source": [
    "!pip3 install -r requirements.txt"
   ]
  },
  {
   "cell_type": "code",
   "execution_count": 2,
   "metadata": {},
   "outputs": [],
   "source": [
    "import numpy as np\n",
    "import pandas as pd\n",
    "from scipy.io import arff\n",
    "import seaborn as sns\n",
    "import matplotlib.pyplot as plt"
   ]
  },
  {
   "cell_type": "code",
   "execution_count": 4,
   "metadata": {},
   "outputs": [],
   "source": [
    "data, meta = arff.loadarff('breast-cancer.arff')"
   ]
  },
  {
   "cell_type": "code",
   "execution_count": 5,
   "metadata": {},
   "outputs": [],
   "source": [
    "converters = dict()\n",
    "_ = [converters.update({column:dtype}) for column,dtype in zip(meta.names(),meta.types())]"
   ]
  },
  {
   "cell_type": "code",
   "execution_count": 6,
   "metadata": {},
   "outputs": [],
   "source": [
    "df = pd.DataFrame(data=data, columns=meta.names())"
   ]
  },
  {
   "cell_type": "code",
   "execution_count": 7,
   "metadata": {},
   "outputs": [
    {
     "data": {
      "text/html": [
       "<div>\n",
       "<style scoped>\n",
       "    .dataframe tbody tr th:only-of-type {\n",
       "        vertical-align: middle;\n",
       "    }\n",
       "\n",
       "    .dataframe tbody tr th {\n",
       "        vertical-align: top;\n",
       "    }\n",
       "\n",
       "    .dataframe thead th {\n",
       "        text-align: right;\n",
       "    }\n",
       "</style>\n",
       "<table border=\"1\" class=\"dataframe\">\n",
       "  <thead>\n",
       "    <tr style=\"text-align: right;\">\n",
       "      <th></th>\n",
       "      <th>age</th>\n",
       "      <th>menopause</th>\n",
       "      <th>tumor-size</th>\n",
       "      <th>inv-nodes</th>\n",
       "      <th>node-caps</th>\n",
       "      <th>deg-malig</th>\n",
       "      <th>breast</th>\n",
       "      <th>breast-quad</th>\n",
       "      <th>irradiat</th>\n",
       "      <th>Class</th>\n",
       "    </tr>\n",
       "  </thead>\n",
       "  <tbody>\n",
       "    <tr>\n",
       "      <th>0</th>\n",
       "      <td>b\"'40-49'\"</td>\n",
       "      <td>b\"'premeno'\"</td>\n",
       "      <td>b\"'15-19'\"</td>\n",
       "      <td>b\"'0-2'\"</td>\n",
       "      <td>b\"'yes'\"</td>\n",
       "      <td>b\"'3'\"</td>\n",
       "      <td>b\"'right'\"</td>\n",
       "      <td>b\"'left_up'\"</td>\n",
       "      <td>b\"'no'\"</td>\n",
       "      <td>b\"'recurrence-events'\"</td>\n",
       "    </tr>\n",
       "    <tr>\n",
       "      <th>1</th>\n",
       "      <td>b\"'50-59'\"</td>\n",
       "      <td>b\"'ge40'\"</td>\n",
       "      <td>b\"'15-19'\"</td>\n",
       "      <td>b\"'0-2'\"</td>\n",
       "      <td>b\"'no'\"</td>\n",
       "      <td>b\"'1'\"</td>\n",
       "      <td>b\"'right'\"</td>\n",
       "      <td>b\"'central'\"</td>\n",
       "      <td>b\"'no'\"</td>\n",
       "      <td>b\"'no-recurrence-events'\"</td>\n",
       "    </tr>\n",
       "    <tr>\n",
       "      <th>2</th>\n",
       "      <td>b\"'50-59'\"</td>\n",
       "      <td>b\"'ge40'\"</td>\n",
       "      <td>b\"'35-39'\"</td>\n",
       "      <td>b\"'0-2'\"</td>\n",
       "      <td>b\"'no'\"</td>\n",
       "      <td>b\"'2'\"</td>\n",
       "      <td>b\"'left'\"</td>\n",
       "      <td>b\"'left_low'\"</td>\n",
       "      <td>b\"'no'\"</td>\n",
       "      <td>b\"'recurrence-events'\"</td>\n",
       "    </tr>\n",
       "    <tr>\n",
       "      <th>3</th>\n",
       "      <td>b\"'40-49'\"</td>\n",
       "      <td>b\"'premeno'\"</td>\n",
       "      <td>b\"'35-39'\"</td>\n",
       "      <td>b\"'0-2'\"</td>\n",
       "      <td>b\"'yes'\"</td>\n",
       "      <td>b\"'3'\"</td>\n",
       "      <td>b\"'right'\"</td>\n",
       "      <td>b\"'left_low'\"</td>\n",
       "      <td>b\"'yes'\"</td>\n",
       "      <td>b\"'no-recurrence-events'\"</td>\n",
       "    </tr>\n",
       "    <tr>\n",
       "      <th>4</th>\n",
       "      <td>b\"'40-49'\"</td>\n",
       "      <td>b\"'premeno'\"</td>\n",
       "      <td>b\"'30-34'\"</td>\n",
       "      <td>b\"'3-5'\"</td>\n",
       "      <td>b\"'yes'\"</td>\n",
       "      <td>b\"'2'\"</td>\n",
       "      <td>b\"'left'\"</td>\n",
       "      <td>b\"'right_up'\"</td>\n",
       "      <td>b\"'no'\"</td>\n",
       "      <td>b\"'recurrence-events'\"</td>\n",
       "    </tr>\n",
       "  </tbody>\n",
       "</table>\n",
       "</div>"
      ],
      "text/plain": [
       "          age     menopause  tumor-size inv-nodes node-caps deg-malig  \\\n",
       "0  b\"'40-49'\"  b\"'premeno'\"  b\"'15-19'\"  b\"'0-2'\"  b\"'yes'\"    b\"'3'\"   \n",
       "1  b\"'50-59'\"     b\"'ge40'\"  b\"'15-19'\"  b\"'0-2'\"   b\"'no'\"    b\"'1'\"   \n",
       "2  b\"'50-59'\"     b\"'ge40'\"  b\"'35-39'\"  b\"'0-2'\"   b\"'no'\"    b\"'2'\"   \n",
       "3  b\"'40-49'\"  b\"'premeno'\"  b\"'35-39'\"  b\"'0-2'\"  b\"'yes'\"    b\"'3'\"   \n",
       "4  b\"'40-49'\"  b\"'premeno'\"  b\"'30-34'\"  b\"'3-5'\"  b\"'yes'\"    b\"'2'\"   \n",
       "\n",
       "       breast    breast-quad  irradiat                      Class  \n",
       "0  b\"'right'\"   b\"'left_up'\"   b\"'no'\"     b\"'recurrence-events'\"  \n",
       "1  b\"'right'\"   b\"'central'\"   b\"'no'\"  b\"'no-recurrence-events'\"  \n",
       "2   b\"'left'\"  b\"'left_low'\"   b\"'no'\"     b\"'recurrence-events'\"  \n",
       "3  b\"'right'\"  b\"'left_low'\"  b\"'yes'\"  b\"'no-recurrence-events'\"  \n",
       "4   b\"'left'\"  b\"'right_up'\"   b\"'no'\"     b\"'recurrence-events'\"  "
      ]
     },
     "execution_count": 7,
     "metadata": {},
     "output_type": "execute_result"
    }
   ],
   "source": [
    "df.head()"
   ]
  },
  {
   "cell_type": "code",
   "execution_count": 8,
   "metadata": {},
   "outputs": [
    {
     "name": "stdout",
     "output_type": "stream",
     "text": [
      "<class 'pandas.core.frame.DataFrame'>\n",
      "RangeIndex: 286 entries, 0 to 285\n",
      "Data columns (total 10 columns):\n",
      "age            286 non-null object\n",
      "menopause      286 non-null object\n",
      "tumor-size     286 non-null object\n",
      "inv-nodes      286 non-null object\n",
      "node-caps      286 non-null object\n",
      "deg-malig      286 non-null object\n",
      "breast         286 non-null object\n",
      "breast-quad    286 non-null object\n",
      "irradiat       286 non-null object\n",
      "Class          286 non-null object\n",
      "dtypes: object(10)\n",
      "memory usage: 22.4+ KB\n"
     ]
    }
   ],
   "source": [
    "df.info()"
   ]
  },
  {
   "cell_type": "code",
   "execution_count": 9,
   "metadata": {},
   "outputs": [
    {
     "name": "stdout",
     "output_type": "stream",
     "text": [
      "0\n"
     ]
    }
   ],
   "source": [
    "print(df.isnull().values.sum())"
   ]
  },
  {
   "cell_type": "code",
   "execution_count": 10,
   "metadata": {},
   "outputs": [
    {
     "name": "stdout",
     "output_type": "stream",
     "text": [
      "b\"'50-59'\"    96\n",
      "b\"'40-49'\"    90\n",
      "b\"'60-69'\"    57\n",
      "b\"'30-39'\"    36\n",
      "b\"'70-79'\"     6\n",
      "b\"'20-29'\"     1\n",
      "Name: age, dtype: int64\n"
     ]
    }
   ],
   "source": [
    "print(df['age'].value_counts())"
   ]
  },
  {
   "cell_type": "code",
   "execution_count": 11,
   "metadata": {},
   "outputs": [
    {
     "name": "stdout",
     "output_type": "stream",
     "text": [
      "6\n"
     ]
    }
   ],
   "source": [
    "print(df['age'].value_counts().count())"
   ]
  },
  {
   "cell_type": "code",
   "execution_count": 14,
   "metadata": {},
   "outputs": [
    {
     "data": {
      "image/png": "[encoded data removed]",
      "text/plain": [
       "<Figure size 432x288 with 1 Axes>"
      ]
     },
     "metadata": {},
     "output_type": "display_data"
    }
   ],
   "source": [
    "age_count = df['age'].value_counts()\n",
    "sns.set(style=\"darkgrid\")\n",
    "sns.barplot(age_count.index, age_count.values, alpha=0.9)\n",
    "plt.title('Frequency Distribution of Age')\n",
    "plt.ylabel('Number of Occurrences', fontsize=12)\n",
    "plt.xlabel('Age', fontsize=12)\n",
    "plt.show()"
   ]
  },
  {
   "cell_type": "code",
   "execution_count": 13,
   "metadata": {},
   "outputs": [
    {
     "data": {
      "image/png": "[encoded data removed]",
      "text/plain": [
       "<Figure size 432x288 with 1 Axes>"
      ]
     },
     "metadata": {},
     "output_type": "display_data"
    }
   ],
   "source": [
    "labels = df['age'].astype('category').cat.categories.tolist()\n",
    "counts = df['age'].value_counts()\n",
    "sizes = [counts[var_cat] for var_cat in labels]\n",
    "fig1, ax1 = plt.subplots()\n",
    "ax1.pie(sizes, labels=labels, autopct='%1.1f%%', shadow=True) #autopct is show the % on plot\n",
    "ax1.axis('equal')\n",
    "plt.show()"
   ]
  },
  {
   "cell_type": "code",
   "execution_count": 15,
   "metadata": {},
   "outputs": [
    {
     "data": {
      "text/html": [
       "<div>\n",
       "<style scoped>\n",
       "    .dataframe tbody tr th:only-of-type {\n",
       "        vertical-align: middle;\n",
       "    }\n",
       "\n",
       "    .dataframe tbody tr th {\n",
       "        vertical-align: top;\n",
       "    }\n",
       "\n",
       "    .dataframe thead th {\n",
       "        text-align: right;\n",
       "    }\n",
       "</style>\n",
       "<table border=\"1\" class=\"dataframe\">\n",
       "  <thead>\n",
       "    <tr style=\"text-align: right;\">\n",
       "      <th></th>\n",
       "      <th>menopause</th>\n",
       "      <th>tumor-size</th>\n",
       "      <th>inv-nodes</th>\n",
       "      <th>node-caps</th>\n",
       "      <th>deg-malig</th>\n",
       "      <th>breast</th>\n",
       "      <th>breast-quad</th>\n",
       "      <th>irradiat</th>\n",
       "      <th>Class</th>\n",
       "      <th>Age_b\"'20-29'\"</th>\n",
       "      <th>Age_b\"'30-39'\"</th>\n",
       "      <th>Age_b\"'40-49'\"</th>\n",
       "      <th>Age_b\"'50-59'\"</th>\n",
       "      <th>Age_b\"'60-69'\"</th>\n",
       "      <th>Age_b\"'70-79'\"</th>\n",
       "    </tr>\n",
       "  </thead>\n",
       "  <tbody>\n",
       "    <tr>\n",
       "      <th>0</th>\n",
       "      <td>b\"'premeno'\"</td>\n",
       "      <td>b\"'15-19'\"</td>\n",
       "      <td>b\"'0-2'\"</td>\n",
       "      <td>b\"'yes'\"</td>\n",
       "      <td>b\"'3'\"</td>\n",
       "      <td>b\"'right'\"</td>\n",
       "      <td>b\"'left_up'\"</td>\n",
       "      <td>b\"'no'\"</td>\n",
       "      <td>b\"'recurrence-events'\"</td>\n",
       "      <td>0</td>\n",
       "      <td>0</td>\n",
       "      <td>1</td>\n",
       "      <td>0</td>\n",
       "      <td>0</td>\n",
       "      <td>0</td>\n",
       "    </tr>\n",
       "    <tr>\n",
       "      <th>1</th>\n",
       "      <td>b\"'ge40'\"</td>\n",
       "      <td>b\"'15-19'\"</td>\n",
       "      <td>b\"'0-2'\"</td>\n",
       "      <td>b\"'no'\"</td>\n",
       "      <td>b\"'1'\"</td>\n",
       "      <td>b\"'right'\"</td>\n",
       "      <td>b\"'central'\"</td>\n",
       "      <td>b\"'no'\"</td>\n",
       "      <td>b\"'no-recurrence-events'\"</td>\n",
       "      <td>0</td>\n",
       "      <td>0</td>\n",
       "      <td>0</td>\n",
       "      <td>1</td>\n",
       "      <td>0</td>\n",
       "      <td>0</td>\n",
       "    </tr>\n",
       "    <tr>\n",
       "      <th>2</th>\n",
       "      <td>b\"'ge40'\"</td>\n",
       "      <td>b\"'35-39'\"</td>\n",
       "      <td>b\"'0-2'\"</td>\n",
       "      <td>b\"'no'\"</td>\n",
       "      <td>b\"'2'\"</td>\n",
       "      <td>b\"'left'\"</td>\n",
       "      <td>b\"'left_low'\"</td>\n",
       "      <td>b\"'no'\"</td>\n",
       "      <td>b\"'recurrence-events'\"</td>\n",
       "      <td>0</td>\n",
       "      <td>0</td>\n",
       "      <td>0</td>\n",
       "      <td>1</td>\n",
       "      <td>0</td>\n",
       "      <td>0</td>\n",
       "    </tr>\n",
       "    <tr>\n",
       "      <th>3</th>\n",
       "      <td>b\"'premeno'\"</td>\n",
       "      <td>b\"'35-39'\"</td>\n",
       "      <td>b\"'0-2'\"</td>\n",
       "      <td>b\"'yes'\"</td>\n",
       "      <td>b\"'3'\"</td>\n",
       "      <td>b\"'right'\"</td>\n",
       "      <td>b\"'left_low'\"</td>\n",
       "      <td>b\"'yes'\"</td>\n",
       "      <td>b\"'no-recurrence-events'\"</td>\n",
       "      <td>0</td>\n",
       "      <td>0</td>\n",
       "      <td>1</td>\n",
       "      <td>0</td>\n",
       "      <td>0</td>\n",
       "      <td>0</td>\n",
       "    </tr>\n",
       "    <tr>\n",
       "      <th>4</th>\n",
       "      <td>b\"'premeno'\"</td>\n",
       "      <td>b\"'30-34'\"</td>\n",
       "      <td>b\"'3-5'\"</td>\n",
       "      <td>b\"'yes'\"</td>\n",
       "      <td>b\"'2'\"</td>\n",
       "      <td>b\"'left'\"</td>\n",
       "      <td>b\"'right_up'\"</td>\n",
       "      <td>b\"'no'\"</td>\n",
       "      <td>b\"'recurrence-events'\"</td>\n",
       "      <td>0</td>\n",
       "      <td>0</td>\n",
       "      <td>1</td>\n",
       "      <td>0</td>\n",
       "      <td>0</td>\n",
       "      <td>0</td>\n",
       "    </tr>\n",
       "  </tbody>\n",
       "</table>\n",
       "</div>"
      ],
      "text/plain": [
       "      menopause  tumor-size inv-nodes node-caps deg-malig      breast  \\\n",
       "0  b\"'premeno'\"  b\"'15-19'\"  b\"'0-2'\"  b\"'yes'\"    b\"'3'\"  b\"'right'\"   \n",
       "1     b\"'ge40'\"  b\"'15-19'\"  b\"'0-2'\"   b\"'no'\"    b\"'1'\"  b\"'right'\"   \n",
       "2     b\"'ge40'\"  b\"'35-39'\"  b\"'0-2'\"   b\"'no'\"    b\"'2'\"   b\"'left'\"   \n",
       "3  b\"'premeno'\"  b\"'35-39'\"  b\"'0-2'\"  b\"'yes'\"    b\"'3'\"  b\"'right'\"   \n",
       "4  b\"'premeno'\"  b\"'30-34'\"  b\"'3-5'\"  b\"'yes'\"    b\"'2'\"   b\"'left'\"   \n",
       "\n",
       "     breast-quad  irradiat                      Class  Age_b\"'20-29'\"  \\\n",
       "0   b\"'left_up'\"   b\"'no'\"     b\"'recurrence-events'\"               0   \n",
       "1   b\"'central'\"   b\"'no'\"  b\"'no-recurrence-events'\"               0   \n",
       "2  b\"'left_low'\"   b\"'no'\"     b\"'recurrence-events'\"               0   \n",
       "3  b\"'left_low'\"  b\"'yes'\"  b\"'no-recurrence-events'\"               0   \n",
       "4  b\"'right_up'\"   b\"'no'\"     b\"'recurrence-events'\"               0   \n",
       "\n",
       "   Age_b\"'30-39'\"  Age_b\"'40-49'\"  Age_b\"'50-59'\"  Age_b\"'60-69'\"  \\\n",
       "0               0               1               0               0   \n",
       "1               0               0               1               0   \n",
       "2               0               0               1               0   \n",
       "3               0               1               0               0   \n",
       "4               0               1               0               0   \n",
       "\n",
       "   Age_b\"'70-79'\"  \n",
       "0               0  \n",
       "1               0  \n",
       "2               0  \n",
       "3               0  \n",
       "4               0  "
      ]
     },
     "execution_count": 15,
     "metadata": {},
     "output_type": "execute_result"
    }
   ],
   "source": [
    "df = pd.get_dummies(df, columns=['age'], prefix = ['Age'])\n",
    "df.head()"
   ]
  },
  {
   "cell_type": "code",
   "execution_count": null,
   "metadata": {},
   "outputs": [],
   "source": []
  }
 ],
 "metadata": {
  "kernelspec": {
   "display_name": "Python 3",
   "language": "python",
   "name": "python3"
  },
  "language_info": {
   "codemirror_mode": {
    "name": "ipython",
    "version": 3
   },
   "file_extension": ".py",
   "mimetype": "text/x-python",
   "name": "python",
   "nbconvert_exporter": "python",
   "pygments_lexer": "ipython3",
   "version": "3.7.3"
  }
 },
 "nbformat": 4,
 "nbformat_minor": 2
}
